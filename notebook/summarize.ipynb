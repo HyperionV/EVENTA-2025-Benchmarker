{
  "nbformat": 4,
  "nbformat_minor": 0,
  "metadata": {
    "colab": {
      "provenance": [],
      "gpuType": "T4"
    },
    "kernelspec": {
      "name": "python3",
      "display_name": "Python 3"
    },
    "language_info": {
      "name": "python"
    },
    "accelerator": "GPU"
  },
  "cells": [
    {
      "cell_type": "code",
      "source": [
        "import json\n",
        "\n",
        "with open(\"database_100.json\", 'r') as f:\n",
        "    data = json.load(f)\n",
        "\n",
        "for i, item in enumerate(data):\n",
        "    print(f'[{i}] - {item[\"title\"]}')"
      ],
      "metadata": {
        "id": "RgTqRAz7Duo8",
        "colab": {
          "base_uri": "https://localhost:8080/"
        },
        "outputId": "022e6c78-68bb-467d-d6dc-cc4479aea991"
      },
      "execution_count": 1,
      "outputs": [
        {
          "output_type": "stream",
          "name": "stdout",
          "text": [
            "[0] - There's a shortage of truckers, but TuSimple thinks it has a solution: no driver needed - CNN\n",
            "[1] - Bioservo's robotic 'Ironhand' could protect factory workers from injuries - CNN\n",
            "[2] - This swarm of robots gets smarter the more it works - CNN\n",
            "[3] - Two years later, remote work has changed millions of careers - CNN\n",
            "[4] - Burger King partner 'refuses' to close 800 Russian locations - CNN\n",
            "[5] - White House 'appalled' at Axios over Ukraine article - CNN\n",
            "[6] - How Kohl's became such a mess - CNN\n",
            "[7] - Budweiser's slogan wasn't always the 'King of Beers' - CNN\n",
            "[8] - India's young investors prefer crypto to gold and 'boring' stocks - CNN\n",
            "[9] - Adar Poonawalla: He vaccinates half the world's babies. Ending the pandemic proved much harder - CNN\n",
            "[10] - Gravity could solve renewable energy's biggest problem - CNN\n",
            "[11] - This Indian dairy-tech startup has created a step counter for cows  - CNN\n",
            "[12] - How an Indian company is transforming palm leaves into tableware - CNN\n",
            "[13] - A robot is killing weeds by zapping them with electricity  - CNN\n",
            "[14] - These futuristic pods could help free up roads - CNN\n",
            "[15] - These apps are trying to put car dealers out of business - CNN\n",
            "[16] - Electric robots are mapping the seafloor, Earth's last frontier - CNN\n",
            "[17] - Russian were go-to movie villains in the 1980s. What a new Cold War might bring - CNN\n",
            "[18] - Mila Kunis and Ashton Kutcher raise $30 million for Ukrainian refugees - CNN\n",
            "[19] - Kanye West's Grammys performance being canceled had nothing to do with Trevor Noah, says source - CNN\n",
            "[20] - 'Kyiv Calling:' Ukrainian punk band makes The Clash classic an anti-Russia anthem - CNN\n",
            "[21] - Analysis: Amy Schumer has older millennial malaise in 'Life & Beth' - CNN\n",
            "[22] - 'WeCrashed' review: Jared Leto and Anne Hathaway can't make Apple TV+'s WeWork series pay off - CNN\n",
            "[23] - Volodymyr Zelensky: Netflix is streaming the series that foreshadowed his presidency  - CNN\n",
            "[24] - 'Sesame Street's' Maria, Sonia Manzano, remembers Emilio Delgado - CNN\n",
            "[25] - Rock & Roll Hall of Fame to keep Dolly Parton on nominee list despite her opting out - CNN\n",
            "[26] - 'Deep Water' review: Ben Affleck and Ana de Armas bring unhappily married heat to Patricia Highsmith's erotic thriller - CNN\n",
            "[27] - Adam Scott shares his 'quite illegal' fake ID debacle at age 16 - CNN\n",
            "[28] - Tom Hiddleston and Zawe Ashton are engaged  - CNN\n",
            "[29] - Chris Redd says he's ready to tell some Kanye West jokes, with one exception - CNN\n",
            "[30] - Sarma Melngailis and 'Bad Vegan': What you need to know  - CNN\n",
            "[31] - Justin Bieber talks wife's blood clot emergency: 'She's strong'  - CNN\n",
            "[32] - Jessica Biel plays an axe murderer in trailer for Hulu's 'Candy' - CNN\n",
            "[33] - Anna Sorokin, subject of 'Inventing Anna,' says she may have lied a little - CNN\n",
            "[34] - 'DMZ' review: Rosario Dawson stars in a dreary family drama against the backdrop of civil war - CNN\n",
            "[35] - Oscars 2022: Here's who is presenting at the Academy Awards  - CNN\n",
            "[36] - Lisa Kudrow is totally open to the idea of a 'Romy and Michele' sequel - CNN\n",
            "[37] - 'Phoenix Rising' review: Evan Rachel Wood journeys from acting to activism in HBO documentary - CNN\n",
            "[38] - 'Ms. Marvel' trailer introduces the MCU's Muslim teen superhero - CNN\n",
            "[39] - Sandra Bullock taking a break from acting  - CNN\n",
            "[40] - 'The Gilded Age' reminds us that the Black elite existed and thrived - CNN\n",
            "[41] - As Robert Pattinson takes over, why 'The Batman's' long history casts a long shadow among fans - CNN\n",
            "[42] - 'Turning Red' review: Pixar's coming-of-age movie shows it hasn't lost its golden touch - CNN\n",
            "[43] - 'Life & Beth' review: Amy Schumer indulges in a personal but flawed Hulu dramedy - CNN\n",
            "[44] - 'Winning Time: The Rise of the Lakers Dynasty' review: HBO's nostalgic miniseries doesn't conjure much magic - CNN\n",
            "[45] - Where to stream the best picture Oscar-nominated movies  - CNN\n",
            "[46] - Analysis: Academy Award nominations: No Spider-Man, no Bond. Can streaming save the day? - CNN\n",
            "[47] - Cleveland Browns defend Deshaun Watson signing, say they conducted 'comprehensive evaluation'  - CNN\n",
            "[48] - Bahrain Grand Prix: Ferrari dominates as Charles Leclerc wins dramatic season opener  - CNN\n",
            "[49] - Greg Norman: Lucrative Saudi-backed golf league is 'new opportunity' for players, says CEO - CNN\n",
            "[50] - Deshaun Watson set to be traded from Houston Texans to Cleveland Browns - CNN\n",
            "[51] - Longtime NFL reporter John Clayton, known as 'The Professor' has died at age 67 - CNN\n",
            "[52] - Transgender swimmer Lia Thomas finishes 5th in NCAA women's 200-yard freestyle final - CNN\n",
            "[53] - Champions League: Reigning champion Chelsea to face Real Madrid in quarterfinals - CNN\n",
            "[54] - Davante Adams: Green Bay Packers trade wide receiver to the Las Vegas Raiders for draft picks - CNN\n",
            "[55] - Chelsea FC: 81 executions in Saudi Arabia on one day and horror of Russia's invasion of Ukraine buffet the Premier League - CNN\n",
            "[56] - Roman Abramovich: Death and destruction in Ukraine overshadows Russian oligarch's legacy at Chelsea - CNN\n",
            "[57] - The world of sport has shunned Russian President Vladimir Putin. So what? - CNN\n",
            "[58] - Oleksandr Usyk: Heavyweight champion speaks exclusively to CNN after joining Ukrainian defense battalion - CNN\n",
            "[59] - Molly Seidel: How distance runner overcame 'imposter syndrome' and 'blew away' her expectations in the marathon - CNN\n",
            "[60] - Daniel Ricciardo: From withstanding searing heat to 'fighting tension in the body,' how F1 star's performance coach prepares driver for the season ahead - CNN\n",
            "[61] - Messi and Neymar booed by PSG fans after another Champions League meltdown: What next for the French club? - CNN\n",
            "[62] - Paulo Fonseca: Former Roma manager shares family escape story from Ukraine - CNN\n",
            "[63] - Red Bull Plane Swap: Skydiving from one plane to another -- at 14,000 feet? Wild feat of mid-air plane swap has been decades in the making - CNN\n",
            "[64] - Serena Williams: 'I should have been at like 30 or 32' grand slam singles titles - CNN\n",
            "[65] - Harold Varner III says monster 92-foot eagle putt to win tournament is 'No. 1' moment in golf career  - CNN\n",
            "[66] - Cameron Smith claims PGA Tour's biggest payout after winning the Players Championship - CNN\n",
            "[67] - Shane Lowry hits hole-in-one on 'one of the most iconic holes in golf' at the Players Championship - CNN\n",
            "[68] - Paul Pogba: Manchester United star's 'worst nightmare' realized after family home burgled  - CNN\n",
            "[69] - Juventus crash out of the Champions League after a 3-0 defeat to Villarreal  - CNN\n",
            "[70] - Manchester United's chase for trophies is over in March -- where does the beleaguered club go from here? - CNN\n",
            "[71] - Nick Kyrgios apologizes after smashed racket almost hits ball boy - CNN\n",
            "[72] - Rafael Nadal battles past Reilly Opelka to reach Indian Wells quarterfinals - CNN\n",
            "[73] - Daniil Medvedev: UK government wants assurances that Russian tennis star is not a supporter of Vladimir Putin - CNN\n",
            "[74] - Saint Peter's completes huge March Madness upset, stunning No. 2 seed Kentucky - CNN\n",
            "[75] - Baker Mayfield: Cleveland Browns quarterback requests trade, but team denies request  - CNN\n",
            "[76] - Lewis Hamilton to change name to honor mother  - CNN\n",
            "[77] - Lewis Hamilton plays down hopes of starting F1 season with a win - CNN\n",
            "[78] - Fired Russian F1 driver Nikita Mazepin announces fund to help other excluded athletes - CNN\n",
            "[79] - The Winter Olympics don't really represent the world: Costs, climate and quotas keep the majority off the podium - CNN\n",
            "[80] - Eileen Gu and Kamila Valieva became the teenage faces of Beijing 2022 under wildly contrasting circumstances - CNN\n",
            "[81] - Cookbook: Secrets behind what fuels Olympic athletes are helping raise awareness of domestic abuse in the US - CNN\n",
            "[82] - Chris Caserta: Jockey presumed dead after being caught in rip current  - CNN\n",
            "[83] - 2021 Belmont Stakes results: Essential Quality wins race - CNN\n",
            "[84] - Lor Sabourin: How feeling 'vulnerable' helped climber explore their identity  - CNN\n",
            "[85] - Nadhira Alharthy: Omani climber wants to 'die empty' in her quest to share knowledge - CNN\n",
            "[86] - Janja Garnbret: Olympic hopeful on her Tokyo dream and hopes for climbing in the future  - CNN\n",
            "[87] - Tom Stoltman harnesses 'superpower' of autism to become the World's Strongest Man - CNN\n",
            "[88] - His body 'totally depleted' by distance running, Ryan Hall turned to weightlifting and found a new lease of life - CNN\n",
            "[89] - Robbie Balenger: Vegan endurance athlete on his spiritual connection with running   - CNN\n",
            "[90] - Bodybuilding: Rene Campbell wants to change perceptions of what women should look like - CNN\n",
            "[91] - Eating disorders: Olympic high jumper Priscilla Frederick-Loomis pressured to 'perform better' and lose a few pounds - CNN\n",
            "[92] - Women sport stars' fight for body acceptance - CNN\n",
            "[93] - University of Michigan students say they were sexually abused by Robert Anderson. An ex-NFL player wants their stories to be heard.  - CNN\n",
            "[94] - Navid Afkari: Executed Iranian wrestling star's voice is 'everywhere now' - CNN\n",
            "[95] - Tokyo 2020: International Olympic Committee is coming under pressure over the alleged torture and arrest of Iranian athletes - CNN\n",
            "[96] - Bundesliga: Targeted by far right group, Türkgücü Munich, founded by Turkish immigrants, looks to connect cultures - CNN\n",
            "[97] - Ethiopia pledges action after video shows uniformed men burning civilians alive - CNN\n",
            "[98] - Amazon's going to Nollywood -- and its deals with studios could shake up one of the world's most prolific filmmaking hubs - CNN\n",
            "[99] - Amilcar Djau Codjovi: Rising soccer star's harrowing escape from Ukraine - CNN\n"
          ]
        }
      ]
    },
    {
      "cell_type": "code",
      "execution_count": 3,
      "metadata": {
        "colab": {
          "base_uri": "https://localhost:8080/"
        },
        "id": "ar-FctVu8uH_",
        "outputId": "5cc750fb-7cfa-443c-cd81-bb865def0658"
      },
      "outputs": [
        {
          "output_type": "stream",
          "name": "stdout",
          "text": [
            "Requirement already satisfied: transformers in /usr/local/lib/python3.11/dist-packages (4.51.3)\n",
            "Requirement already satisfied: pandas in /usr/local/lib/python3.11/dist-packages (2.2.2)\n",
            "Requirement already satisfied: nltk in /usr/local/lib/python3.11/dist-packages (3.9.1)\n",
            "Requirement already satisfied: numpy in /usr/local/lib/python3.11/dist-packages (2.0.2)\n",
            "Requirement already satisfied: filelock in /usr/local/lib/python3.11/dist-packages (from transformers) (3.18.0)\n",
            "Requirement already satisfied: huggingface-hub<1.0,>=0.30.0 in /usr/local/lib/python3.11/dist-packages (from transformers) (0.30.2)\n",
            "Requirement already satisfied: packaging>=20.0 in /usr/local/lib/python3.11/dist-packages (from transformers) (25.0)\n",
            "Requirement already satisfied: pyyaml>=5.1 in /usr/local/lib/python3.11/dist-packages (from transformers) (6.0.2)\n",
            "Requirement already satisfied: regex!=2019.12.17 in /usr/local/lib/python3.11/dist-packages (from transformers) (2024.11.6)\n",
            "Requirement already satisfied: requests in /usr/local/lib/python3.11/dist-packages (from transformers) (2.32.3)\n",
            "Requirement already satisfied: tokenizers<0.22,>=0.21 in /usr/local/lib/python3.11/dist-packages (from transformers) (0.21.1)\n",
            "Requirement already satisfied: safetensors>=0.4.3 in /usr/local/lib/python3.11/dist-packages (from transformers) (0.5.3)\n",
            "Requirement already satisfied: tqdm>=4.27 in /usr/local/lib/python3.11/dist-packages (from transformers) (4.67.1)\n",
            "Requirement already satisfied: python-dateutil>=2.8.2 in /usr/local/lib/python3.11/dist-packages (from pandas) (2.9.0.post0)\n",
            "Requirement already satisfied: pytz>=2020.1 in /usr/local/lib/python3.11/dist-packages (from pandas) (2025.2)\n",
            "Requirement already satisfied: tzdata>=2022.7 in /usr/local/lib/python3.11/dist-packages (from pandas) (2025.2)\n",
            "Requirement already satisfied: click in /usr/local/lib/python3.11/dist-packages (from nltk) (8.1.8)\n",
            "Requirement already satisfied: joblib in /usr/local/lib/python3.11/dist-packages (from nltk) (1.4.2)\n",
            "Requirement already satisfied: fsspec>=2023.5.0 in /usr/local/lib/python3.11/dist-packages (from huggingface-hub<1.0,>=0.30.0->transformers) (2025.3.2)\n",
            "Requirement already satisfied: typing-extensions>=3.7.4.3 in /usr/local/lib/python3.11/dist-packages (from huggingface-hub<1.0,>=0.30.0->transformers) (4.13.2)\n",
            "Requirement already satisfied: six>=1.5 in /usr/local/lib/python3.11/dist-packages (from python-dateutil>=2.8.2->pandas) (1.17.0)\n",
            "Requirement already satisfied: charset-normalizer<4,>=2 in /usr/local/lib/python3.11/dist-packages (from requests->transformers) (3.4.1)\n",
            "Requirement already satisfied: idna<4,>=2.5 in /usr/local/lib/python3.11/dist-packages (from requests->transformers) (3.10)\n",
            "Requirement already satisfied: urllib3<3,>=1.21.1 in /usr/local/lib/python3.11/dist-packages (from requests->transformers) (2.4.0)\n",
            "Requirement already satisfied: certifi>=2017.4.17 in /usr/local/lib/python3.11/dist-packages (from requests->transformers) (2025.4.26)\n",
            "Requirement already satisfied: torch in /usr/local/lib/python3.11/dist-packages (2.6.0+cpu)\n",
            "Requirement already satisfied: torchvision in /usr/local/lib/python3.11/dist-packages (0.21.0+cpu)\n",
            "Requirement already satisfied: torchaudio in /usr/local/lib/python3.11/dist-packages (2.6.0+cpu)\n",
            "Requirement already satisfied: filelock in /usr/local/lib/python3.11/dist-packages (from torch) (3.18.0)\n",
            "Requirement already satisfied: typing-extensions>=4.10.0 in /usr/local/lib/python3.11/dist-packages (from torch) (4.13.2)\n",
            "Requirement already satisfied: networkx in /usr/local/lib/python3.11/dist-packages (from torch) (3.4.2)\n",
            "Requirement already satisfied: jinja2 in /usr/local/lib/python3.11/dist-packages (from torch) (3.1.6)\n",
            "Requirement already satisfied: fsspec in /usr/local/lib/python3.11/dist-packages (from torch) (2025.3.2)\n",
            "Requirement already satisfied: sympy==1.13.1 in /usr/local/lib/python3.11/dist-packages (from torch) (1.13.1)\n",
            "Requirement already satisfied: mpmath<1.4,>=1.1.0 in /usr/local/lib/python3.11/dist-packages (from sympy==1.13.1->torch) (1.3.0)\n",
            "Requirement already satisfied: numpy in /usr/local/lib/python3.11/dist-packages (from torchvision) (2.0.2)\n",
            "Requirement already satisfied: pillow!=8.3.*,>=5.3.0 in /usr/local/lib/python3.11/dist-packages (from torchvision) (11.2.1)\n",
            "Requirement already satisfied: MarkupSafe>=2.0 in /usr/local/lib/python3.11/dist-packages (from jinja2->torch) (3.0.2)\n"
          ]
        }
      ],
      "source": [
        "!pip install transformers pandas nltk numpy\n",
        "\n",
        "!pip install torch torchvision torchaudio"
      ]
    },
    {
      "cell_type": "code",
      "source": [
        "import pandas as pd\n",
        "import nltk\n",
        "from transformers import pipeline\n",
        "import torch\n",
        "import time\n",
        "\n",
        "nltk.download('punkt')\n",
        "\n",
        "torch.set_num_threads(torch.get_num_threads())"
      ],
      "metadata": {
        "colab": {
          "base_uri": "https://localhost:8080/"
        },
        "id": "xRibGFMf9KHp",
        "outputId": "11d970ff-ba07-4b6b-c95f-6b5f6b22f5c6"
      },
      "execution_count": 2,
      "outputs": [
        {
          "output_type": "stream",
          "name": "stderr",
          "text": [
            "[nltk_data] Downloading package punkt to /root/nltk_data...\n",
            "[nltk_data]   Unzipping tokenizers/punkt.zip.\n"
          ]
        }
      ]
    },
    {
      "cell_type": "code",
      "source": [
        "from transformers import AutoTokenizer\n",
        "\n",
        "def llm_summarize(text: str, model_name: str = \"google/flan-t5-base\", max_length: int = 500, min_length: int = 50) -> str:\n",
        "    try:\n",
        "      tokenizer = AutoTokenizer.from_pretrained(model_name)\n",
        "\n",
        "      summarizer = pipeline(\n",
        "          \"summarization\",\n",
        "          model=model_name,\n",
        "          tokenizer=tokenizer,\n",
        "          num_beams=4,\n",
        "          do_sample=True,\n",
        "          device=0,\n",
        "          max_length=8192\n",
        "        )\n",
        "\n",
        "      prompt = f\"Summarize the provided article content, focusing on capturing the key events, central themes, or critical insights that define the article’s narrative. Ensure the summary is vivid, engaging, and informative, highlighting the most impactful moments or ideas that would resonate with a reader.\\n{text}\"\n",
        "      summary = summarizer(prompt, truncation=True, max_length=max_length, min_length=min_length)\n",
        "    except Exception as e:\n",
        "      print(f\"Error in llm_summarize: {e}\")\n",
        "      return \"\"\n",
        "\n",
        "    return summary[0][\"summary_text\"]"
      ],
      "metadata": {
        "id": "FCyb1jZq9kBn"
      },
      "execution_count": 19,
      "outputs": []
    },
    {
      "cell_type": "code",
      "source": [
        "def summarize_text(text: str, model_name: str = \"google/flan-t5-base\", max_length: int = 500, min_length: int = 50) -> str:\n",
        "    return llm_summarize(text, model_name=model_name, max_length=max_length, min_length=min_length)"
      ],
      "metadata": {
        "id": "PcfKvePo-VIk"
      },
      "execution_count": 20,
      "outputs": []
    },
    {
      "cell_type": "code",
      "source": [
        "# Summarize the sample text using different models\n",
        "model_names = [\n",
        "    \"Falconsai/text_summarization\",\n",
        "    \"google/pegasus-xsum\"\n",
        "]\n",
        "\n",
        "output = {\n",
        "    \"models\": model_names,\n",
        "    \"content\": []\n",
        "}\n",
        "\n",
        "for item in data[:50]:\n",
        "    article_output = {\n",
        "        \"title\": item[\"title\"],\n",
        "        \"content\": item[\"content\"],\n",
        "    }\n",
        "\n",
        "    for model in model_names:\n",
        "        print(f\"Summarizing for article: {item['title']}\")\n",
        "        print(f\"\\tSummarize using {model}:\")\n",
        "\n",
        "        start_time = time.time()\n",
        "        summary = summarize_text(item[\"content\"], model_name=model)\n",
        "        end_time = time.time()\n",
        "        elapsed_time = end_time - start_time\n",
        "\n",
        "        print(summary)\n",
        "        print(f\"Time taken for {model}: {elapsed_time:.2f} seconds\\n\")\n",
        "\n",
        "        article_output[model] = {\n",
        "            \"content\": summary,\n",
        "            \"time\": f\"{elapsed_time:.2f}\"\n",
        "        }\n",
        "\n",
        "    output[\"content\"].append(article_output)\n",
        "\n",
        "with open(\"summarized_articles.json\", \"w\") as f:\n",
        "    json.dump(output, f, indent=2)"
      ],
      "metadata": {
        "colab": {
          "base_uri": "https://localhost:8080/"
        },
        "id": "SuL8hD8V-bcY",
        "outputId": "0cd9fcb6-c1f4-4b9c-b1d6-11bb3af3c7c4"
      },
      "execution_count": null,
      "outputs": [
        {
          "output_type": "stream",
          "name": "stdout",
          "text": [
            "Summarizing for article: There's a shortage of truckers, but TuSimple thinks it has a solution: no driver needed - CNN\n",
            "\tSummarize using Falconsai/text_summarization:\n"
          ]
        },
        {
          "output_type": "stream",
          "name": "stderr",
          "text": [
            "Device set to use cuda:0\n"
          ]
        },
        {
          "output_type": "stream",
          "name": "stdout",
          "text": [
            "Yara Birkeland is what its builders call the world's first zero-emission, autonomous cargo ship . The ship is scheduled to make its first journey between two Norwegian towns before the end of the year . In China, a new Maglev high-speed train rolls off the production line in Qingdao, east China's Shandong Province, on July 20 .\n",
            "Time taken for Falconsai/text_summarization: 1.73 seconds\n",
            "\n",
            "Summarizing for article: There's a shortage of truckers, but TuSimple thinks it has a solution: no driver needed - CNN\n",
            "\tSummarize using google/pegasus-xsum:\n"
          ]
        },
        {
          "output_type": "stream",
          "name": "stderr",
          "text": [
            "Some weights of PegasusForConditionalGeneration were not initialized from the model checkpoint at google/pegasus-xsum and are newly initialized: ['model.decoder.embed_positions.weight', 'model.encoder.embed_positions.weight']\n",
            "You should probably TRAIN this model on a down-stream task to be able to use it for predictions and inference.\n",
            "Device set to use cuda:0\n"
          ]
        },
        {
          "output_type": "stream",
          "name": "stdout",
          "text": [
            "In Case You Missed It: A round-up of interesting transport-related links shared over the past seven days, as compiled by the BBC's transport team and shared with you by our writers and editors., below are some of the latest transport-related links shared over the past seven days, as compiled by the BBC's transport team and shared with you by our writers and editors.\n",
            "Time taken for google/pegasus-xsum: 7.05 seconds\n",
            "\n",
            "Summarizing for article: Bioservo's robotic 'Ironhand' could protect factory workers from injuries - CNN\n",
            "\tSummarize using Falconsai/text_summarization:\n"
          ]
        },
        {
          "output_type": "stream",
          "name": "stderr",
          "text": [
            "Device set to use cuda:0\n"
          ]
        },
        {
          "output_type": "stream",
          "name": "stdout",
          "text": [
            "The \"Ironhand\" glove strengthens the wearer's grip, meaning they don't have to use as much force to perform repetitive tasks . The Swedish company describes the system as a \"soft exoskeleton\" The robots running our warehouses are an increasingly familiar presence in warehouses . At the south-east London warehouse run by British online supermarket Ocado, 3,000 robots fulfill shopping orders.\n",
            "Time taken for Falconsai/text_summarization: 1.91 seconds\n",
            "\n",
            "Summarizing for article: Bioservo's robotic 'Ironhand' could protect factory workers from injuries - CNN\n",
            "\tSummarize using google/pegasus-xsum:\n"
          ]
        },
        {
          "output_type": "stream",
          "name": "stderr",
          "text": [
            "Some weights of PegasusForConditionalGeneration were not initialized from the model checkpoint at google/pegasus-xsum and are newly initialized: ['model.decoder.embed_positions.weight', 'model.encoder.embed_positions.weight']\n",
            "You should probably TRAIN this model on a down-stream task to be able to use it for predictions and inference.\n",
            "Device set to use cuda:0\n"
          ]
        },
        {
          "output_type": "stream",
          "name": "stdout",
          "text": [
            "A battery-powered glove, robots that spring to life in warehouses, and a tentacle-like gripper are among the latest stories featured in the latest issue of the BBC News website. The latest issue of the BBC News website features some of the most striking stories from the past week.\n",
            "Time taken for google/pegasus-xsum: 6.19 seconds\n",
            "\n",
            "Summarizing for article: This swarm of robots gets smarter the more it works - CNN\n",
            "\tSummarize using Falconsai/text_summarization:\n"
          ]
        },
        {
          "output_type": "stream",
          "name": "stderr",
          "text": [
            "Device set to use cuda:0\n"
          ]
        },
        {
          "output_type": "stream",
          "name": "stdout",
          "text": [
            "In a Hong Kong warehouse, a swarm of autonomous robots works 24/7. They're not just working hard, they're working smart; as they operate, they get better at their job. At the south-east London warehouse run by British online supermarket Ocado, 3,000 robots fulfill shopping orders . Scroll through to see more robots that are revolutionizing warehouses.\n",
            "Time taken for Falconsai/text_summarization: 1.66 seconds\n",
            "\n",
            "Summarizing for article: This swarm of robots gets smarter the more it works - CNN\n",
            "\tSummarize using google/pegasus-xsum:\n"
          ]
        },
        {
          "output_type": "stream",
          "name": "stderr",
          "text": [
            "Some weights of PegasusForConditionalGeneration were not initialized from the model checkpoint at google/pegasus-xsum and are newly initialized: ['model.decoder.embed_positions.weight', 'model.encoder.embed_positions.weight']\n",
            "You should probably TRAIN this model on a down-stream task to be able to use it for predictions and inference.\n",
            "Device set to use cuda:0\n"
          ]
        },
        {
          "output_type": "stream",
          "name": "stdout",
          "text": [
            "If you would like to be considered for this position, please send us your resume and a brief summary of why you would like to be considered for this role to careers@bbc.co.uk or write to Careers, BBC World Service, 4 Cowdenbeath Avenue, London, EC1A 2BN.\n",
            "Time taken for google/pegasus-xsum: 6.65 seconds\n",
            "\n",
            "Summarizing for article: Two years later, remote work has changed millions of careers - CNN\n",
            "\tSummarize using Falconsai/text_summarization:\n"
          ]
        },
        {
          "output_type": "stream",
          "name": "stderr",
          "text": [
            "Device set to use cuda:0\n"
          ]
        },
        {
          "output_type": "stream",
          "name": "stdout",
          "text": [
            "Chelsea Pruitt, 31, moved from California to Alabama . At the time, she started working remotely . She started working for long-term housing rental company Zeus Living in January 2020 . Now, she's headed to Alabama to start a new life .\n",
            "Time taken for Falconsai/text_summarization: 1.26 seconds\n",
            "\n",
            "Summarizing for article: Two years later, remote work has changed millions of careers - CNN\n",
            "\tSummarize using google/pegasus-xsum:\n"
          ]
        },
        {
          "output_type": "stream",
          "name": "stderr",
          "text": [
            "Some weights of PegasusForConditionalGeneration were not initialized from the model checkpoint at google/pegasus-xsum and are newly initialized: ['model.decoder.embed_positions.weight', 'model.encoder.embed_positions.weight']\n",
            "You should probably TRAIN this model on a down-stream task to be able to use it for predictions and inference.\n",
            "Device set to use cuda:0\n"
          ]
        },
        {
          "output_type": "stream",
          "name": "stdout",
          "text": [
            "The World Health Organization (WHO) is asking the public to share their stories of how the H1N1 pandemic affected their lives and their work, using the hashtag #H1N1Stories on Twitter or using the hashtag #H1N1Summary on Instagram.\n",
            "Time taken for google/pegasus-xsum: 5.62 seconds\n",
            "\n",
            "Summarizing for article: Burger King partner 'refuses' to close 800 Russian locations - CNN\n",
            "\tSummarize using Falconsai/text_summarization:\n"
          ]
        },
        {
          "output_type": "stream",
          "name": "stderr",
          "text": [
            "Device set to use cuda:0\n"
          ]
        },
        {
          "output_type": "stream",
          "name": "stdout",
          "text": [
            "Burger King is trying to suspend its operations in Russia, but that's proving difficult . A business partner controlling 800 restaurants has \"refused\" to close them, the company says . Burger King has a joint venture partnership with businessman Alexander Kolobov in Russia .\n",
            "Time taken for Falconsai/text_summarization: 1.33 seconds\n",
            "\n",
            "Summarizing for article: Burger King partner 'refuses' to close 800 Russian locations - CNN\n",
            "\tSummarize using google/pegasus-xsum:\n"
          ]
        },
        {
          "output_type": "stream",
          "name": "stderr",
          "text": [
            "Some weights of PegasusForConditionalGeneration were not initialized from the model checkpoint at google/pegasus-xsum and are newly initialized: ['model.decoder.embed_positions.weight', 'model.encoder.embed_positions.weight']\n",
            "You should probably TRAIN this model on a down-stream task to be able to use it for predictions and inference.\n",
            "Device set to use cuda:0\n"
          ]
        },
        {
          "output_type": "stream",
          "name": "stdout",
          "text": [
            "Sharpen your writing skills with this short online writing course from the University of Wisconsin-Madison's School of Journalism and Mass Communication., which will teach you how to deliver a compelling and effective summary of a news story to a group of readers.\n",
            "Time taken for google/pegasus-xsum: 6.88 seconds\n",
            "\n",
            "Summarizing for article: White House 'appalled' at Axios over Ukraine article - CNN\n",
            "\tSummarize using Falconsai/text_summarization:\n"
          ]
        },
        {
          "output_type": "stream",
          "name": "stderr",
          "text": [
            "Device set to use cuda:0\n"
          ]
        },
        {
          "output_type": "stream",
          "name": "stdout",
          "text": [
            "Axios report based on fabricated letter purportedly written by Ukraine's top national security official . Ukraine ambassador Oksana Markarova said she believed the letter was \"falsified\" White House and CIA officials said they had no record of receiving the letter from Oleksiy Danilov .\n",
            "Time taken for Falconsai/text_summarization: 1.49 seconds\n",
            "\n",
            "Summarizing for article: White House 'appalled' at Axios over Ukraine article - CNN\n",
            "\tSummarize using google/pegasus-xsum:\n"
          ]
        },
        {
          "output_type": "stream",
          "name": "stderr",
          "text": [
            "Some weights of PegasusForConditionalGeneration were not initialized from the model checkpoint at google/pegasus-xsum and are newly initialized: ['model.decoder.embed_positions.weight', 'model.encoder.embed_positions.weight']\n",
            "You should probably TRAIN this model on a down-stream task to be able to use it for predictions and inference.\n",
            "Device set to use cuda:0\n"
          ]
        },
        {
          "output_type": "stream",
          "name": "stdout",
          "text": [
            "If you would like to receive theReliable Sources newsletter, you can sign up for a free trial right here.... Read full story at theReliableSources.tumblr.com or follow us on Facebook and Twitter.. Read full story at theReliableSources.tumblr.com or follow us on Facebook and Twitter..\n",
            "Time taken for google/pegasus-xsum: 6.42 seconds\n",
            "\n",
            "Summarizing for article: How Kohl's became such a mess - CNN\n",
            "\tSummarize using Falconsai/text_summarization:\n"
          ]
        },
        {
          "output_type": "stream",
          "name": "stderr",
          "text": [
            "Device set to use cuda:0\n"
          ]
        }
      ]
    },
    {
      "cell_type": "code",
      "source": [],
      "metadata": {
        "id": "7CuzocVP-hxu"
      },
      "execution_count": 6,
      "outputs": []
    }
  ]
}